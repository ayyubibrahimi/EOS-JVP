{
 "cells": [
  {
   "cell_type": "code",
   "execution_count": 1,
   "metadata": {},
   "outputs": [],
   "source": [
    "import pandas as pd"
   ]
  },
  {
   "cell_type": "code",
   "execution_count": 2,
   "metadata": {},
   "outputs": [
    {
     "data": {
      "text/html": [
       "<div>\n",
       "<style scoped>\n",
       "    .dataframe tbody tr th:only-of-type {\n",
       "        vertical-align: middle;\n",
       "    }\n",
       "\n",
       "    .dataframe tbody tr th {\n",
       "        vertical-align: top;\n",
       "    }\n",
       "\n",
       "    .dataframe thead th {\n",
       "        text-align: right;\n",
       "    }\n",
       "</style>\n",
       "<table border=\"1\" class=\"dataframe\">\n",
       "  <thead>\n",
       "    <tr style=\"text-align: right;\">\n",
       "      <th></th>\n",
       "      <th>Month</th>\n",
       "      <th>ISRAEL ST Bonds Count</th>\n",
       "    </tr>\n",
       "  </thead>\n",
       "  <tbody>\n",
       "    <tr>\n",
       "      <th>0</th>\n",
       "      <td>Feb 2024</td>\n",
       "      <td>5</td>\n",
       "    </tr>\n",
       "    <tr>\n",
       "      <th>1</th>\n",
       "      <td>Oct 2023</td>\n",
       "      <td>4</td>\n",
       "    </tr>\n",
       "    <tr>\n",
       "      <th>2</th>\n",
       "      <td>Nov 2023</td>\n",
       "      <td>5</td>\n",
       "    </tr>\n",
       "    <tr>\n",
       "      <th>3</th>\n",
       "      <td>Dec 2023</td>\n",
       "      <td>5</td>\n",
       "    </tr>\n",
       "    <tr>\n",
       "      <th>4</th>\n",
       "      <td>Sep 2023</td>\n",
       "      <td>4</td>\n",
       "    </tr>\n",
       "    <tr>\n",
       "      <th>5</th>\n",
       "      <td>Jan 2024</td>\n",
       "      <td>5</td>\n",
       "    </tr>\n",
       "    <tr>\n",
       "      <th>6</th>\n",
       "      <td>Mar 2024</td>\n",
       "      <td>5</td>\n",
       "    </tr>\n",
       "  </tbody>\n",
       "</table>\n",
       "</div>"
      ],
      "text/plain": [
       "      Month  ISRAEL ST Bonds Count\n",
       "0  Feb 2024                      5\n",
       "1  Oct 2023                      4\n",
       "2  Nov 2023                      5\n",
       "3  Dec 2023                      5\n",
       "4  Sep 2023                      4\n",
       "5  Jan 2024                      5\n",
       "6  Mar 2024                      5"
      ]
     },
     "execution_count": 2,
     "metadata": {},
     "output_type": "execute_result"
    }
   ],
   "source": [
    "\n",
    "\n",
    "# Function to calculate the number of ISRAEL ST bonds per month\n",
    "def calculate_israel_st_bonds_per_month(file_paths):\n",
    "    monthly_israel_st_bonds = []\n",
    "\n",
    "    for file_path, month in file_paths:\n",
    "        df = pd.read_csv(file_path)\n",
    "        # Filter for ISRAEL ST bonds\n",
    "        israel_st_bonds_count = df[df['Security Description1'].str.contains(\"ISRAEL\", na=False)].shape[0]\n",
    "        monthly_israel_st_bonds.append((month, israel_st_bonds_count))\n",
    "\n",
    "    # Convert to DataFrame for easy viewing\n",
    "    monthly_israel_st_bonds_df = pd.DataFrame(monthly_israel_st_bonds, columns=['Month', 'ISRAEL ST Bonds Count'])\n",
    "    return monthly_israel_st_bonds_df\n",
    "\n",
    "# List of file paths and corresponding months\n",
    "file_paths = [\n",
    "    ('../data/input/2024/BNY Mellon GASB Holding Daily 29 Feb 2024 - Redacted.csv', 'Feb 2024'),\n",
    "    ('../data/input/2024/Copy of BNY Mellon GASB Holdings Daily_31 Oct 2023.csv', 'Oct 2023'),\n",
    "    ('../data/input/2024/Copy of BNY Mellon GASB Holdings Daily_30 Nov 2023.csv', 'Nov 2023'),\n",
    "    ('../data/input/2024/Copy of BNY Mellon GASB Holdings Daily_30 Dec 2023.csv', 'Dec 2023'),\n",
    "    ('../data/input/2024/Copy of BNY Mellon GASB Holdings Daily_29 Sep 2023.csv', 'Sep 2023'),\n",
    "    ('../data/input/2024/BNY Mellon GASB Holdings Daily 31 Jan 2024 - Redacted.csv', 'Jan 2024'),\n",
    "    ('../data/input/2024/BNY Mellon GASB Holding Daily 31 Mar 2024 - Redacted.csv', 'Mar 2024')\n",
    "]\n",
    "\n",
    "# Calculate the number of ISRAEL ST bonds per month\n",
    "monthly_israel_st_bonds_df = calculate_israel_st_bonds_per_month(file_paths)\n",
    "\n",
    "monthly_israel_st_bonds_df"
   ]
  }
 ],
 "metadata": {
  "kernelspec": {
   "display_name": "Python 3",
   "language": "python",
   "name": "python3"
  },
  "language_info": {
   "codemirror_mode": {
    "name": "ipython",
    "version": 3
   },
   "file_extension": ".py",
   "mimetype": "text/x-python",
   "name": "python",
   "nbconvert_exporter": "python",
   "pygments_lexer": "ipython3",
   "version": "3.12.3"
  }
 },
 "nbformat": 4,
 "nbformat_minor": 2
}
